{
 "cells": [
  {
   "cell_type": "code",
   "execution_count": null,
   "metadata": {},
   "outputs": [],
   "source": [
    "import pandas as pd\n",
    "import numpy as np\n",
    "import seaborn as sns                       #visualisation\n",
    "import matplotlib.pyplot as plt             #visualisation\n",
    "%matplotlib inline     \n",
    "sns.set(color_codes=True)\n",
    "from pydrive.auth import GoogleAuth\n",
    "from pydrive.drive import GoogleDrive\n",
    "import folium                              #for maps"
   ]
  },
  {
   "cell_type": "code",
   "execution_count": null,
   "metadata": {},
   "outputs": [],
   "source": [
    "from google.colab import drive\n",
    "drive.mount(\"/content/drive\")"
   ]
  },
  {
   "cell_type": "code",
   "execution_count": null,
   "metadata": {},
   "outputs": [],
   "source": [
    "folder='Crime_Boston'\n",
    "file='crimes_in_boston.csv'"
   ]
  },
  {
   "cell_type": "code",
   "execution_count": null,
   "metadata": {},
   "outputs": [],
   "source": [
    "df = pd.read_csv('/content/drive/MyDrive/Crime_Boston/crimes_in_boston.csv')# To display the top 5 rows \n",
    "df.head(5)"
   ]
  },
  {
   "cell_type": "code",
   "execution_count": null,
   "metadata": {},
   "outputs": [],
   "source": [
    "df.dtypes"
   ]
  },
  {
   "cell_type": "markdown",
   "metadata": {},
   "source": [
    "A continuación podemos ver que el Lat y Long tienen 19.998 registros menos que Location. \n",
    "Shooting es un true unicamente cuando se registro un tiroteo dentro del crimen, a pesar de que sean pocas, es importante considerarlo."
   ]
  },
  {
   "cell_type": "code",
   "execution_count": null,
   "metadata": {},
   "outputs": [],
   "source": [
    "df.count()"
   ]
  },
  {
   "cell_type": "markdown",
   "metadata": {},
   "source": [
    "Eliminar duplicados"
   ]
  },
  {
   "cell_type": "code",
   "execution_count": null,
   "metadata": {},
   "outputs": [],
   "source": [
    "df.shape"
   ]
  },
  {
   "cell_type": "code",
   "execution_count": null,
   "metadata": {},
   "outputs": [],
   "source": [
    "duplicate_rows_df = df[df.duplicated()]\n",
    "print(\"number of duplicate rows: \", duplicate_rows_df.shape)"
   ]
  },
  {
   "cell_type": "markdown",
   "metadata": {},
   "source": [
    "Esto quiere decir que de las 319073 filas hay 23 duplicadas que eliminaremos."
   ]
  },
  {
   "cell_type": "code",
   "execution_count": null,
   "metadata": {},
   "outputs": [],
   "source": [
    "df = df.drop_duplicates()\n",
    "df.shape"
   ]
  },
  {
   "cell_type": "code",
   "execution_count": null,
   "metadata": {},
   "outputs": [],
   "source": [
    "print(df.isnull().sum())"
   ]
  },
  {
   "cell_type": "markdown",
   "metadata": {},
   "source": [
    "1. Los que no tienen Lat y Long, vemos que es porque se seteo una Location de (0.00000000, 0.00000000). Lo podemos identificar dado que los 19998 que no tenian Lat y Long es igual a la frecuencia de (0.00000000, 0.00000000) en el campo Location.\n",
    "\n",
    "2. Dada la repeticion del Incident number, siendo \"I162030584\" el mas repetido, 13 veces, podemos concluir que cada incidente puede tener mas de un registro, indicando distintos OFFENSE_CODE/GROUP/DESCRIPTION. Realizado para agregar detalle a ese incidente.\n",
    "\n",
    "3. B2 es el distrito con mayor cantidad de registros, sin embargo, al repetirse el Incident Number, tendriamos que eliminar los repetidos para saber cual fue el número exacto de incidentes."
   ]
  },
  {
   "cell_type": "code",
   "execution_count": null,
   "metadata": {},
   "outputs": [],
   "source": [
    "summary = df.describe(include='all').transpose()\n",
    "summary"
   ]
  },
  {
   "cell_type": "markdown",
   "metadata": {},
   "source": [
    "1. Eliminamos la columna OFFENSE_CODE: Es un codigo interno de la policia de Boston, que son agrupados en un mismo OFFENSE_CODE_GROUP, que a nuestro analisis lo enriquece mucho mas, dado que brinda detalle de cuál es el tipo de Incidente. Podríamos buscar analizar los distintos offense code dentro de un mismo code group, pero como no lo vamos a hacer, la columna solo ensuciaría el análisis.\n",
    "\n",
    "2. En nuestro análisis, creemos que la OFFENSE_DESCRIPTION, no agrega valor. La información principal a analizar se encuentra en el OFFENSE_GROUP.\n",
    "\n",
    "3. La columna OCCURRED_ON_DATE es la agrupación de las columnas YEAR,\tMONTH y\tHOUR. Al separar la fecha en esos 3 campos, se facilita el analisis que buscamos, por lo que eliminamos la columna OCCURRED_ON_DATE.\n",
    "\n",
    "4. Analizaremos las ubicaciones de cada incidente, para eso, usaremos las columnas Lat y Long, que están agrupadas en la columna Location, por lo que eliminaremos está última, que no suma valor."
   ]
  },
  {
   "cell_type": "code",
   "execution_count": null,
   "metadata": {},
   "outputs": [],
   "source": [
    "df = df.drop(['OFFENSE_CODE', 'OFFENSE_DESCRIPTION', 'OFFENSE_DESCRIPTION', 'OCCURRED_ON_DATE', 'Location'], axis=1)\n",
    "df.head(5)"
   ]
  },
  {
   "cell_type": "markdown",
   "metadata": {},
   "source": [
    "Ahora para poder analizar por barrio, limpiamos los INCIDENT_NUMBER duplicados, generando un nuevo dataset, pero manteniendo el anterior, ya que con el detalle que brindan los repetidos se pueden hacer otros analisis."
   ]
  },
  {
   "cell_type": "code",
   "execution_count": null,
   "metadata": {},
   "outputs": [],
   "source": [
    "duplicate_rows_df = df[df.INCIDENT_NUMBER.duplicated()]\n",
    "print(\"number of duplicate rows: \", duplicate_rows_df.shape)"
   ]
  },
  {
   "cell_type": "code",
   "execution_count": null,
   "metadata": {},
   "outputs": [],
   "source": [
    "df_wo_dup_incident = df.drop_duplicates(subset=[\"INCIDENT_NUMBER\"], keep='first')"
   ]
  },
  {
   "cell_type": "markdown",
   "metadata": {},
   "source": [
    "Eliminamos los duplicados y el \"dataset without duplicate incidents\" es de 282517 filas y 17 columnas, a diferencia del df que es de 319073 filas y 17 columnas."
   ]
  },
  {
   "cell_type": "code",
   "execution_count": null,
   "metadata": {},
   "outputs": [],
   "source": [
    "df_wo_dup_incident.shape"
   ]
  },
  {
   "cell_type": "markdown",
   "metadata": {},
   "source": [
    "Ahora, podemos ver que B2 sigue siendo el DISTRICT con mayores incidentes, con un número de 43403. Podemos ver que al eliminar INCIDENT_NUMBER duplicados, este número bajo desde 49940 incidentes. "
   ]
  },
  {
   "cell_type": "code",
   "execution_count": null,
   "metadata": {},
   "outputs": [],
   "source": [
    "summary = df_wo_dup_incident.describe(include='all').transpose()\n",
    "summary"
   ]
  },
  {
   "cell_type": "code",
   "execution_count": null,
   "metadata": {},
   "outputs": [],
   "source": [
    "map"
   ]
  },
  {
   "cell_type": "markdown",
   "metadata": {},
   "source": [
    "Cantidad de incidentes por mes. Se concluye que Agosto es el mes con mayor cantidad de incidentes y Febrero el de menor cantidad."
   ]
  },
  {
   "cell_type": "code",
   "execution_count": null,
   "metadata": {},
   "outputs": [],
   "source": [
    "sns.catplot(x='MONTH',\n",
    "           kind='count',\n",
    "            height=5, \n",
    "            aspect=2,\n",
    "            palette=sns.color_palette(['blue','green','blue','blue','blue','blue','blue','red','blue','blue','blue','blue']),\n",
    "           data=df_wo_dup_incident)\n",
    "plt.xticks(size=20)\n",
    "plt.yticks(size=20)\n",
    "plt.xlabel('Mes', fontsize=20)\n",
    "plt.ylabel('Cantidad de Incidentes', fontsize=20)"
   ]
  },
  {
   "cell_type": "markdown",
   "metadata": {},
   "source": [
    "Cantidad de incidentes por hora. Se concluye que entre las 16 y las 19hs son los momentos con mayor cantidad de incidentes y entre las 3 y las 6am, los momentos con menor cantidad de incidentes reportados."
   ]
  },
  {
   "cell_type": "code",
   "execution_count": null,
   "metadata": {},
   "outputs": [],
   "source": [
    "sns.catplot(x='HOUR',\n",
    "           kind='count',\n",
    "            height=4,\n",
    "            aspect=2,\n",
    "            palette=sns.color_palette(['blue','blue','blue','green','green','green','blue','blue','blue','blue','blue','blue','blue','blue','blue','blue','red','red','red','blue','blue','blue','blue']),\n",
    "           data=df_wo_dup_incident)\n",
    "plt.xticks(size=10)\n",
    "plt.yticks(size=20)\n",
    "plt.xlabel('Dia', fontsize=20)\n",
    "plt.ylabel('Cantidad de Incidentes', fontsize=20)"
   ]
  },
  {
   "cell_type": "markdown",
   "metadata": {},
   "source": [
    "Cantidad de incidentes por dia. Se concluye que no hay grandes variaciones entre los dias, sin embargo, hay una leve cantidad mayor de incidentes durantes los viernes, y menor los domingos, que el resto de los dias."
   ]
  },
  {
   "cell_type": "code",
   "execution_count": null,
   "metadata": {},
   "outputs": [],
   "source": [
    "sns.catplot(x='DAY_OF_WEEK',\n",
    "           kind='count',\n",
    "            height=4,\n",
    "            aspect=2,\n",
    "            order=['Monday','Tuesday','Wednesday','Thursday','Friday','Saturday', 'Sunday'],\n",
    "            palette=sns.color_palette(['blue','blue','blue','blue','red','blue','green']),\n",
    "           data=df_wo_dup_incident)\n",
    "plt.xticks(size=10)\n",
    "plt.yticks(size=20)\n",
    "plt.xlabel('Dia', fontsize=20)\n",
    "plt.ylabel('Cantidad de Incidentes', fontsize=20)"
   ]
  },
  {
   "cell_type": "markdown",
   "metadata": {},
   "source": [
    "Los años con mayor cantidad de reportes son 2017 y 2016 respectivamente, muy por encima de 2018 y 2015, que son los de menores incidentes respectivamente."
   ]
  },
  {
   "cell_type": "code",
   "execution_count": null,
   "metadata": {},
   "outputs": [],
   "source": [
    "sns.catplot(x='YEAR',\n",
    "           kind='count',\n",
    "            height=4,\n",
    "            aspect=2,\n",
    "            palette=sns.color_palette(['green','blue','red','blue']),\n",
    "           data=df_wo_dup_incident)\n",
    "plt.xticks(size=10)\n",
    "plt.yticks(size=10)\n",
    "plt.xlabel('Año', fontsize=20)\n",
    "plt.ylabel('Cantidad de Incidentes', fontsize=15)"
   ]
  },
  {
   "cell_type": "markdown",
   "metadata": {},
   "source": [
    "Cantidad de incidentes por tipos de ofensas, divididos por distrito."
   ]
  },
  {
   "cell_type": "code",
   "execution_count": null,
   "metadata": {},
   "outputs": [],
   "source": [
    "df_per_district = df_wo_dup_incident.groupby(['DISTRICT','OFFENSE_CODE_GROUP'])['OFFENSE_CODE_GROUP'].count()\n",
    "df_per_district"
   ]
  },
  {
   "cell_type": "markdown",
   "metadata": {},
   "source": [
    "10 tipos de ofensas mas comunes indicando el distrito y ordenados por cantidad de ofensas de ese tipo en dicho distrito. "
   ]
  },
  {
   "cell_type": "code",
   "execution_count": null,
   "metadata": {},
   "outputs": [],
   "source": [
    "df_per_district = df_wo_dup_incident.groupby(['DISTRICT','OFFENSE_CODE_GROUP'])['OFFENSE_CODE_GROUP'].agg(['count']).sort_values(by='count', ascending=False).nlargest(10, 'count')\n",
    "df_per_district"
   ]
  },
  {
   "cell_type": "markdown",
   "metadata": {},
   "source": [
    "Shootings por distrito, ordenados por cantidad. Vemos que B2, B3 y C11 son los distritos con mas shootings, con mucha diferencia por encima del resto."
   ]
  },
  {
   "cell_type": "code",
   "execution_count": null,
   "metadata": {},
   "outputs": [],
   "source": [
    "df_shootings = df_wo_dup_incident.groupby(['DISTRICT','SHOOTING'])['SHOOTING'].agg(['count']).sort_values(by='count', ascending=False)\n",
    "df_shootings\n",
    "\n",
    "df_shootings['total'] = df_shootings['count'].sum()     \n",
    "df_shootings['porcentaje'] = df_shootings['count']/df_shootings['total']*100     \n",
    "df_shootings"
   ]
  },
  {
   "cell_type": "code",
   "execution_count": null,
   "metadata": {},
   "outputs": [],
   "source": [
    "df_shootings.groupby(['DISTRICT']).sum().plot(\n",
    "    kind='pie', y='count', autopct='%1.0f%%', legend=False, colors = ['blue', 'blue', 'blue','darkred','firebrick','red','blue','blue','blue','blue','blue','blue'])"
   ]
  },
  {
   "cell_type": "markdown",
   "metadata": {},
   "source": [
    "Calles con mayores incidentes junto con su distrito."
   ]
  },
  {
   "cell_type": "code",
   "execution_count": null,
   "metadata": {},
   "outputs": [],
   "source": [
    "df_streets = df_wo_dup_incident.groupby(['DISTRICT','STREET'])['STREET'].agg(['count']).sort_values(by='count', ascending=False)\n",
    "df_streets"
   ]
  },
  {
   "cell_type": "markdown",
   "metadata": {},
   "source": [
    "Caja y bigotes de shootings por hora, se concluye que la mayor cantidad de tiroteos se encuentran entre las 6 y las 21hs."
   ]
  },
  {
   "cell_type": "code",
   "execution_count": null,
   "metadata": {},
   "outputs": [],
   "source": [
    "sns.boxplot(data=df_wo_dup_incident, x=\"HOUR\", y=\"SHOOTING\")"
   ]
  },
  {
   "cell_type": "markdown",
   "metadata": {},
   "source": [
    "Caja y bigotes de shootings por hora en cada uno de los distritos. Se puede observar como en algunos de los distritos, los tiroteos están mas concentrados a la noche, mientras que en otros es durante todo el dia. A1 se distingue al ser el unico que su mayor concentración es por la mañana."
   ]
  },
  {
   "cell_type": "code",
   "execution_count": null,
   "metadata": {},
   "outputs": [],
   "source": [
    "sns.boxplot(data=df_wo_dup_incident, x=\"HOUR\", y=\"DISTRICT\", hue=\"SHOOTING\", dodge=False).set_title('SHOOTINGS PER HOUR')\n",
    "plt.legend([],[], frameon=False)"
   ]
  },
  {
   "cell_type": "code",
   "execution_count": null,
   "metadata": {},
   "outputs": [],
   "source": []
  },
  {
   "cell_type": "markdown",
   "metadata": {},
   "source": [
    "Donut plot de incidentes por distrito"
   ]
  },
  {
   "cell_type": "code",
   "execution_count": null,
   "metadata": {},
   "outputs": [],
   "source": [
    "def show_donut_plot(col):\n",
    "    \n",
    "    rating_data = df_wo_dup_incident.groupby(col)[['INCIDENT_NUMBER']].count().head(10)\n",
    "    plt.figure(figsize = (12, 8))\n",
    "    plt.pie(rating_data[['INCIDENT_NUMBER']], autopct = '%1.0f%%', startangle = 140, pctdistance = 1.1)\n",
    "\n",
    "    # create a center circle for more aesthetics to make it better\n",
    "    gap = plt.Circle((0, 0), 0.5, fc = 'white')\n",
    "    fig = plt.gcf()\n",
    "    fig.gca().add_artist(gap)\n",
    "    \n",
    "    plt.axis('equal')\n",
    "    \n",
    "    cols = []\n",
    "    for index, row in rating_data.iterrows():\n",
    "        cols.append(index)\n",
    "    plt.legend(cols)\n",
    "    \n",
    "    plt.title('Donut Plot by ' +str(col), loc='center')\n",
    "    \n",
    "    plt.show()"
   ]
  },
  {
   "cell_type": "code",
   "execution_count": null,
   "metadata": {},
   "outputs": [],
   "source": [
    "show_donut_plot('DISTRICT')"
   ]
  },
  {
   "cell_type": "markdown",
   "metadata": {},
   "source": [
    "Cantidad de ncidentes por tipo de UCR_PART divididos por distrito. Se puede observar que en todos ellos, los de Part Three son los mas repetidos. En algunos barrios (cómo lo es el caso de B3), los de Part One (casos mas graves) parecerian estar mas controlados que los de Part Two. Sin embargo, un caso que sale del molde es el del distrito D4, donde los mas graves (Part One) superan a los medios (Part Two) "
   ]
  },
  {
   "cell_type": "code",
   "execution_count": null,
   "metadata": {},
   "outputs": [],
   "source": [
    "df_wo_dup_incident2 = df_wo_dup_incident.dropna(subset=['UCR_PART'])\n",
    "plt.figure(figsize=(8,8))\n",
    "ax = sns.countplot(x='DISTRICT',data=df_wo_dup_incident2,hue=\"UCR_PART\")\n",
    "bars = ax.patches\n",
    "half = int(len(bars)/2)\n",
    "left_bars = bars[:half]\n",
    "right_bars = bars[half:]\n",
    "\n",
    "for left, right in zip(left_bars, right_bars):\n",
    "    height_l = left.get_height()\n",
    "    height_r = right.get_height()\n",
    "    total = height_l + height_r"
   ]
  },
  {
   "cell_type": "markdown",
   "metadata": {},
   "source": [
    "Por último, armamos un mapa con las longitudes y latitudes de cada incidente, que nos permitirá visualizar y comprender graficamente las ubicaciones en la ciudad."
   ]
  },
  {
   "cell_type": "code",
   "execution_count": null,
   "metadata": {},
   "outputs": [],
   "source": [
    "location = df_wo_dup_incident.dropna()\n",
    "location = location[[\"Lat\", \"Long\", \"INCIDENT_NUMBER\"]]"
   ]
  },
  {
   "cell_type": "code",
   "execution_count": null,
   "metadata": {},
   "outputs": [],
   "source": [
    "map = folium.Map(location=[location.Lat.mean(), location.Long.mean()], zoom_start=14, control_scale=True)"
   ]
  },
  {
   "cell_type": "code",
   "execution_count": null,
   "metadata": {},
   "outputs": [],
   "source": [
    "for index, location_info in location.iterrows():\n",
    "    folium.Marker([location_info[\"Lat\"], location_info[\"Long\"]], popup=location_info[\"INCIDENT_NUMBER\"]).add_to(map)"
   ]
  },
  {
   "cell_type": "code",
   "execution_count": null,
   "metadata": {},
   "outputs": [],
   "source": [
    "map"
   ]
  }
 ],
 "metadata": {
  "kernelspec": {
   "display_name": "Python 3.10.7 64-bit",
   "language": "python",
   "name": "python3"
  },
  "language_info": {
   "name": "python",
   "version": "3.10.7"
  },
  "orig_nbformat": 4,
  "vscode": {
   "interpreter": {
    "hash": "9e7342ba0ab402af88d570c19a0b1c8a8c78f2edbd6d0204fb59a98d1c2d2ef0"
   }
  }
 },
 "nbformat": 4,
 "nbformat_minor": 2
}
